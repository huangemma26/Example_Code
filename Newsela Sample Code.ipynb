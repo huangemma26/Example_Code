{
 "cells": [
  {
   "cell_type": "markdown",
   "metadata": {},
   "source": [
    "# Detecting Bias on Reddit Using NLP Analysis and Linear Regression\n",
    "\n",
    "The aim of this notebook is to detect whether bias exists in the news that Reddit users receive while browsing the world news subreddit.\n",
    "\n",
    "On Reddit, the number of upvotes influences how visible an article becomes. If a post initially receives more upvotes or downvotes due to the topic of the post, then those topics will be more or less likely (respectively) to be seen by the average Reddit user.\n",
    "\n",
    "Linear regression can be used to discover the existence of bias by determining if certain features, specifically certain terms, can influence the amount of upvotes a post receives on Reddit. \n",
    "\n",
    "The final model for the analysis was made using linear regression on following variables:\n",
    "* Target Variable:\n",
    "    * Logged upvotes\n",
    "* Potential Feature Variables:\n",
    "    * Article word counts (count vectorizer)\n",
    "    * Article TFIDF\n",
    "    * Ratio of most commonly used words\n",
    "    * Linked website\n",
    "    * Time posted\n",
    "    * Age of post\n",
    "    * Title length\n",
    "\n",
    "These variables will be discussed in detail as they appear in the notebook.\n",
    "\n",
    "### Section breakdown:\n",
    "1. Import Libraries\n",
    "2. Import Data\n",
    "3. Data Cleaning (Non-text features)\n",
    "4. Feature Engineering\n",
    "5. Analyze the \"Upvote\" Variable\n",
    "6. Create Dummy Variables \n",
    "7. Convert Text Data to Sparse Matrix Using Count Vectorizer\n",
    "8. Regress\n",
    "9. Test Model Performance\n",
    "10. Final Analysis"
   ]
  },
  {
   "cell_type": "markdown",
   "metadata": {},
   "source": [
    "# 1. Import Libraries"
   ]
  },
  {
   "cell_type": "code",
   "execution_count": 1,
   "metadata": {},
   "outputs": [],
   "source": [
    "# Data Manipulation \n",
    "import pandas as pd\n",
    "import numpy as np\n",
    "import datetime\n",
    "\n",
    "# Data Storage\n",
    "import pickle\n",
    "\n",
    "# NLP Analysis\n",
    "from sklearn.feature_extraction.text import CountVectorizer\n",
    "from sklearn.feature_extraction.text import TfidfVectorizer\n",
    "import re\n",
    "\n",
    "# Plotting\n",
    "import matplotlib.pyplot as plt\n",
    "%matplotlib inline\n",
    "import seaborn as sns\n",
    "\n",
    "# Linear Regression \n",
    "from sklearn.model_selection import train_test_split, cross_val_score\n",
    "from sklearn.linear_model import Ridge, RidgeCV\n",
    "\n",
    "# Hide Depreciation Warnings\n",
    "import warnings\n",
    "warnings.filterwarnings('ignore')"
   ]
  },
  {
   "cell_type": "markdown",
   "metadata": {},
   "source": [
    "# 2. Import Data\n",
    "Data was obtained from web scraping. It was scraped at 1-2 day intervals to obtain more data as Reddit only saves a certain amount locally."
   ]
  },
  {
   "cell_type": "code",
   "execution_count": 2,
   "metadata": {},
   "outputs": [],
   "source": [
    "df1 = pd.read_csv('raw_data/post_data_10_4.csv',index_col='Unnamed: 0')\n",
    "df2 = pd.read_csv('raw_data/post_data_10_6.csv',index_col='Unnamed: 0')\n",
    "df3 = pd.read_csv('raw_data/post_data_10_7.csv',index_col='Unnamed: 0')\n",
    "df4 = pd.read_csv('raw_data/post_data_10_8.csv',index_col='Unnamed: 0')\n",
    "df5 = pd.read_csv('raw_data/post_data_10_9.csv',index_col='Unnamed: 0')\n",
    "df6 = pd.read_csv('raw_data/post_data_10_10.csv',index_col='Unnamed: 0')"
   ]
  },
  {
   "cell_type": "code",
   "execution_count": 3,
   "metadata": {},
   "outputs": [],
   "source": [
    "df = pd.concat([df6,df5,df4,df3,df2,df1]) # Combine the dataframes"
   ]
  },
  {
   "cell_type": "markdown",
   "metadata": {},
   "source": [
    "Due to the manner in which the data was obtained, there are duplicate posts (where the same post exists at different ages). The newer posts should be deleted so that the posts with more upvotes, comments, etc are saved."
   ]
  },
  {
   "cell_type": "code",
   "execution_count": 4,
   "metadata": {},
   "outputs": [],
   "source": [
    "df = df.drop_duplicates(subset=['title']).reset_index(drop=True)"
   ]
  },
  {
   "cell_type": "code",
   "execution_count": 5,
   "metadata": {},
   "outputs": [
    {
     "data": {
      "text/html": [
       "<div>\n",
       "<style scoped>\n",
       "    .dataframe tbody tr th:only-of-type {\n",
       "        vertical-align: middle;\n",
       "    }\n",
       "\n",
       "    .dataframe tbody tr th {\n",
       "        vertical-align: top;\n",
       "    }\n",
       "\n",
       "    .dataframe thead th {\n",
       "        text-align: right;\n",
       "    }\n",
       "</style>\n",
       "<table border=\"1\" class=\"dataframe\">\n",
       "  <thead>\n",
       "    <tr style=\"text-align: right;\">\n",
       "      <th></th>\n",
       "      <th>upvotes</th>\n",
       "      <th>title</th>\n",
       "      <th>site</th>\n",
       "      <th>time_posted</th>\n",
       "      <th>post_age</th>\n",
       "      <th>comment_no</th>\n",
       "    </tr>\n",
       "  </thead>\n",
       "  <tbody>\n",
       "    <tr>\n",
       "      <th>0</th>\n",
       "      <td>0</td>\n",
       "      <td>The Far Right Isn’t the Only Rising Force in G...</td>\n",
       "      <td>theatlantic.com</td>\n",
       "      <td>2018-10-10 18:49:33</td>\n",
       "      <td>0 days 00:02:20.444008000</td>\n",
       "      <td>0</td>\n",
       "    </tr>\n",
       "    <tr>\n",
       "      <th>1</th>\n",
       "      <td>0</td>\n",
       "      <td>Mexico: Mayor accused of spending taxpayers' m...</td>\n",
       "      <td>mexiconewsdaily.com</td>\n",
       "      <td>2018-10-10 18:48:57</td>\n",
       "      <td>0 days 00:02:56.444011000</td>\n",
       "      <td>0</td>\n",
       "    </tr>\n",
       "    <tr>\n",
       "      <th>2</th>\n",
       "      <td>0</td>\n",
       "      <td>Chinese spy charged with stealing U.S. militar...</td>\n",
       "      <td>washingtonpost.com</td>\n",
       "      <td>2018-10-10 18:48:22</td>\n",
       "      <td>0 days 00:03:31.444012000</td>\n",
       "      <td>1</td>\n",
       "    </tr>\n",
       "    <tr>\n",
       "      <th>3</th>\n",
       "      <td>0</td>\n",
       "      <td>Mexico: 5 Mexico City police arrested for stea...</td>\n",
       "      <td>mexiconewsdaily.com</td>\n",
       "      <td>2018-10-10 18:43:55</td>\n",
       "      <td>0 days 00:07:58.444012000</td>\n",
       "      <td>0</td>\n",
       "    </tr>\n",
       "    <tr>\n",
       "      <th>4</th>\n",
       "      <td>0</td>\n",
       "      <td>Mexico: World Justice Project study finds weak...</td>\n",
       "      <td>mexiconewsdaily.com</td>\n",
       "      <td>2018-10-10 18:40:32</td>\n",
       "      <td>0 days 00:11:21.444013000</td>\n",
       "      <td>1</td>\n",
       "    </tr>\n",
       "  </tbody>\n",
       "</table>\n",
       "</div>"
      ],
      "text/plain": [
       "   upvotes                                              title  \\\n",
       "0        0  The Far Right Isn’t the Only Rising Force in G...   \n",
       "1        0  Mexico: Mayor accused of spending taxpayers' m...   \n",
       "2        0  Chinese spy charged with stealing U.S. militar...   \n",
       "3        0  Mexico: 5 Mexico City police arrested for stea...   \n",
       "4        0  Mexico: World Justice Project study finds weak...   \n",
       "\n",
       "                  site          time_posted                   post_age  \\\n",
       "0      theatlantic.com  2018-10-10 18:49:33  0 days 00:02:20.444008000   \n",
       "1  mexiconewsdaily.com  2018-10-10 18:48:57  0 days 00:02:56.444011000   \n",
       "2   washingtonpost.com  2018-10-10 18:48:22  0 days 00:03:31.444012000   \n",
       "3  mexiconewsdaily.com  2018-10-10 18:43:55  0 days 00:07:58.444012000   \n",
       "4  mexiconewsdaily.com  2018-10-10 18:40:32  0 days 00:11:21.444013000   \n",
       "\n",
       "   comment_no  \n",
       "0           0  \n",
       "1           0  \n",
       "2           1  \n",
       "3           0  \n",
       "4           1  "
      ]
     },
     "execution_count": 5,
     "metadata": {},
     "output_type": "execute_result"
    }
   ],
   "source": [
    "df.head()"
   ]
  },
  {
   "cell_type": "markdown",
   "metadata": {},
   "source": [
    "# 3. Data Cleaning (Non-text features)\n",
    "\n",
    "Cleaning performed:\n",
    "* Convert the time posted to datetime\n",
    "* Convert the age of the post to a timedelta\n",
    "* Delete posts under three hours\n",
    "    * In this way, posts that haven't had enough time for maximum upvote potential aren't taken into account. Most posts under 3 hours have 0 upvotes."
   ]
  },
  {
   "cell_type": "markdown",
   "metadata": {},
   "source": [
    "### Convert to datetime"
   ]
  },
  {
   "cell_type": "code",
   "execution_count": 6,
   "metadata": {},
   "outputs": [],
   "source": [
    "df['time_posted'] = pd.to_datetime(df['time_posted'])"
   ]
  },
  {
   "cell_type": "markdown",
   "metadata": {},
   "source": [
    "### Convert post age to timedelta"
   ]
  },
  {
   "cell_type": "code",
   "execution_count": 7,
   "metadata": {},
   "outputs": [],
   "source": [
    "def to_timedelta(item):\n",
    "    return pd.Timedelta(item[:-10]) # Removes milliseconds\n",
    "\n",
    "df['post_age'] = df['post_age'].apply(to_timedelta)"
   ]
  },
  {
   "cell_type": "markdown",
   "metadata": {},
   "source": [
    "### Delete posts under three hours"
   ]
  },
  {
   "cell_type": "code",
   "execution_count": 8,
   "metadata": {},
   "outputs": [],
   "source": [
    "three_hours = pd.Timedelta('3 hours')\n",
    "df = df[df.post_age >= three_hours].reset_index(drop=True)"
   ]
  },
  {
   "cell_type": "markdown",
   "metadata": {},
   "source": [
    "# 4. Feature Engineering\n",
    "\n",
    "Feautres created:\n",
    "* The hour of day that the post was made\n",
    "    * The time of day could impact the number of upvotes, as the volume of Reddit users changes throughout the day.\n",
    "* Post title length\n",
    "    * This feature could affect the number of upvotes as shorter titles could be easier to read. Alternatively, longer titles could contain more interesting information."
   ]
  },
  {
   "cell_type": "markdown",
   "metadata": {},
   "source": [
    "### Hour of day that the post was made"
   ]
  },
  {
   "cell_type": "code",
   "execution_count": 9,
   "metadata": {},
   "outputs": [],
   "source": [
    "def to_hour(item):\n",
    "    return item.hour\n",
    "\n",
    "df['hour_posted'] = df['time_posted'].apply(to_hour)"
   ]
  },
  {
   "cell_type": "markdown",
   "metadata": {},
   "source": [
    "### Post title length"
   ]
  },
  {
   "cell_type": "code",
   "execution_count": 10,
   "metadata": {},
   "outputs": [],
   "source": [
    "def length(item):\n",
    "    sentence = item.split(\" \")\n",
    "    return len(sentence)\n",
    "\n",
    "df['title_length'] = df['title'].apply(length)"
   ]
  },
  {
   "cell_type": "code",
   "execution_count": 11,
   "metadata": {},
   "outputs": [
    {
     "data": {
      "text/html": [
       "<div>\n",
       "<style scoped>\n",
       "    .dataframe tbody tr th:only-of-type {\n",
       "        vertical-align: middle;\n",
       "    }\n",
       "\n",
       "    .dataframe tbody tr th {\n",
       "        vertical-align: top;\n",
       "    }\n",
       "\n",
       "    .dataframe thead th {\n",
       "        text-align: right;\n",
       "    }\n",
       "</style>\n",
       "<table border=\"1\" class=\"dataframe\">\n",
       "  <thead>\n",
       "    <tr style=\"text-align: right;\">\n",
       "      <th></th>\n",
       "      <th>upvotes</th>\n",
       "      <th>title</th>\n",
       "      <th>site</th>\n",
       "      <th>time_posted</th>\n",
       "      <th>post_age</th>\n",
       "      <th>comment_no</th>\n",
       "      <th>hour_posted</th>\n",
       "      <th>title_length</th>\n",
       "    </tr>\n",
       "  </thead>\n",
       "  <tbody>\n",
       "    <tr>\n",
       "      <th>0</th>\n",
       "      <td>7</td>\n",
       "      <td>Soaring Rice Prices Are Dulling Duterte’s Lust...</td>\n",
       "      <td>nytimes.com</td>\n",
       "      <td>2018-10-10 15:49:49</td>\n",
       "      <td>03:02:05</td>\n",
       "      <td>2</td>\n",
       "      <td>15</td>\n",
       "      <td>9</td>\n",
       "    </tr>\n",
       "    <tr>\n",
       "      <th>1</th>\n",
       "      <td>11</td>\n",
       "      <td>Man who sold stolen identities sentenced to pr...</td>\n",
       "      <td>reuters.com</td>\n",
       "      <td>2018-10-10 15:38:01</td>\n",
       "      <td>03:13:53</td>\n",
       "      <td>2</td>\n",
       "      <td>15</td>\n",
       "      <td>11</td>\n",
       "    </tr>\n",
       "    <tr>\n",
       "      <th>2</th>\n",
       "      <td>42</td>\n",
       "      <td>China okays massive re-education camps for Mus...</td>\n",
       "      <td>businessinsider.com</td>\n",
       "      <td>2018-10-10 15:35:19</td>\n",
       "      <td>03:16:35</td>\n",
       "      <td>8</td>\n",
       "      <td>15</td>\n",
       "      <td>13</td>\n",
       "    </tr>\n",
       "    <tr>\n",
       "      <th>3</th>\n",
       "      <td>17</td>\n",
       "      <td>Indonesian tourists vandalize Olmec monumental...</td>\n",
       "      <td>theyucatantimes.com</td>\n",
       "      <td>2018-10-10 15:28:44</td>\n",
       "      <td>03:23:10</td>\n",
       "      <td>5</td>\n",
       "      <td>15</td>\n",
       "      <td>8</td>\n",
       "    </tr>\n",
       "    <tr>\n",
       "      <th>4</th>\n",
       "      <td>5</td>\n",
       "      <td>UNESCO: Rachel's Tomb and Cave of Patriarchs p...</td>\n",
       "      <td>jpost.com</td>\n",
       "      <td>2018-10-10 15:27:11</td>\n",
       "      <td>03:24:43</td>\n",
       "      <td>7</td>\n",
       "      <td>15</td>\n",
       "      <td>11</td>\n",
       "    </tr>\n",
       "  </tbody>\n",
       "</table>\n",
       "</div>"
      ],
      "text/plain": [
       "   upvotes                                              title  \\\n",
       "0        7  Soaring Rice Prices Are Dulling Duterte’s Lust...   \n",
       "1       11  Man who sold stolen identities sentenced to pr...   \n",
       "2       42  China okays massive re-education camps for Mus...   \n",
       "3       17  Indonesian tourists vandalize Olmec monumental...   \n",
       "4        5  UNESCO: Rachel's Tomb and Cave of Patriarchs p...   \n",
       "\n",
       "                  site         time_posted post_age  comment_no  hour_posted  \\\n",
       "0          nytimes.com 2018-10-10 15:49:49 03:02:05           2           15   \n",
       "1          reuters.com 2018-10-10 15:38:01 03:13:53           2           15   \n",
       "2  businessinsider.com 2018-10-10 15:35:19 03:16:35           8           15   \n",
       "3  theyucatantimes.com 2018-10-10 15:28:44 03:23:10           5           15   \n",
       "4            jpost.com 2018-10-10 15:27:11 03:24:43           7           15   \n",
       "\n",
       "   title_length  \n",
       "0             9  \n",
       "1            11  \n",
       "2            13  \n",
       "3             8  \n",
       "4            11  "
      ]
     },
     "execution_count": 11,
     "metadata": {},
     "output_type": "execute_result"
    }
   ],
   "source": [
    "df.head()"
   ]
  },
  {
   "cell_type": "markdown",
   "metadata": {},
   "source": [
    "# 5. Analyze the \"Upvote\" Variable\n",
    "\n",
    "This is the target variable, so analysis of it is key."
   ]
  },
  {
   "cell_type": "code",
   "execution_count": 12,
   "metadata": {},
   "outputs": [
    {
     "data": {
      "image/png": "[encoded data removed]",
      "text/plain": [
       "<Figure size 432x288 with 1 Axes>"
      ]
     },
     "metadata": {},
     "output_type": "display_data"
    }
   ],
   "source": [
    "# Plot the distribution \n",
    "sns.distplot(df['upvotes'].values, color= '#FF5700');\n",
    "plt.title('Distribution of Upvotes', fontsize = 20, weight = 'bold')\n",
    "plt.xlabel('Number of upvotes', fontsize = 15)\n",
    "sns.despine();"
   ]
  },
  {
   "cell_type": "code",
   "execution_count": 13,
   "metadata": {},
   "outputs": [
    {
     "data": {
      "text/plain": [
       "count     2254.000000\n",
       "mean       887.414818\n",
       "std       6084.253352\n",
       "min          0.000000\n",
       "25%          5.000000\n",
       "50%         12.000000\n",
       "75%         39.000000\n",
       "max      93700.000000\n",
       "Name: upvotes, dtype: float64"
      ]
     },
     "execution_count": 13,
     "metadata": {},
     "output_type": "execute_result"
    }
   ],
   "source": [
    "df['upvotes'].describe()"
   ]
  },
  {
   "cell_type": "markdown",
   "metadata": {},
   "source": [
    "This is a very skewed distribution and needs to be normalized. In terms of regression, this will mean that the model can no longer predict a concrete amount of upvotes. Thankfully, to find bias, we are more interested in upvotes on posts relative to other posts than the actual score on each post, so this doesn't change the problem."
   ]
  },
  {
   "cell_type": "code",
   "execution_count": 14,
   "metadata": {},
   "outputs": [],
   "source": [
    "df[\"upvotes_logged\"] = np.log1p(df.upvotes) # Logged upvotes\n",
    "df['double_log'] = np.log1p(df.upvotes_logged) # Double logged upvotes"
   ]
  },
  {
   "cell_type": "code",
   "execution_count": 46,
   "metadata": {},
   "outputs": [
    {
     "data": {
      "image/png": "[encoded data removed]",
      "text/plain": [
       "<Figure size 1080x360 with 2 Axes>"
      ]
     },
     "metadata": {},
     "output_type": "display_data"
    }
   ],
   "source": [
    "# Plot the distribution of logged upvotes\n",
    "plt.figure(figsize=[15,5])\n",
    "\n",
    "plt.subplot(1,2,1)\n",
    "sns.distplot(df['upvotes_logged'], color= '#FF5700')\n",
    "plt.title('Distribution of Logged Upvotes', fontsize = 20, weight = 'bold')\n",
    "plt.xlabel('Logged Upvotes', fontsize = 15)\n",
    "sns.despine();\n",
    "\n",
    "\n",
    "plt.subplot(1,2,2)\n",
    "sns.distplot(df['double_log'], color= '#FF5700')\n",
    "plt.title('Distribution of Double Logged Upvotes', fontsize = 20, weight = 'bold')\n",
    "plt.xlabel('Double Logged Upvotes', fontsize = 15)\n",
    "sns.despine();"
   ]
  },
  {
   "cell_type": "code",
   "execution_count": 17,
   "metadata": {},
   "outputs": [
    {
     "data": {
      "text/html": [
       "<div>\n",
       "<style scoped>\n",
       "    .dataframe tbody tr th:only-of-type {\n",
       "        vertical-align: middle;\n",
       "    }\n",
       "\n",
       "    .dataframe tbody tr th {\n",
       "        vertical-align: top;\n",
       "    }\n",
       "\n",
       "    .dataframe thead th {\n",
       "        text-align: right;\n",
       "    }\n",
       "</style>\n",
       "<table border=\"1\" class=\"dataframe\">\n",
       "  <thead>\n",
       "    <tr style=\"text-align: right;\">\n",
       "      <th></th>\n",
       "      <th>upvotes</th>\n",
       "      <th>post_age</th>\n",
       "      <th>comment_no</th>\n",
       "      <th>hour_posted</th>\n",
       "      <th>title_length</th>\n",
       "      <th>upvotes_logged</th>\n",
       "      <th>double_log</th>\n",
       "    </tr>\n",
       "  </thead>\n",
       "  <tbody>\n",
       "    <tr>\n",
       "      <th>count</th>\n",
       "      <td>2254.000000</td>\n",
       "      <td>2254</td>\n",
       "      <td>2254.000000</td>\n",
       "      <td>2254.000000</td>\n",
       "      <td>2254.000000</td>\n",
       "      <td>2254.000000</td>\n",
       "      <td>2254.000000</td>\n",
       "    </tr>\n",
       "    <tr>\n",
       "      <th>mean</th>\n",
       "      <td>887.414818</td>\n",
       "      <td>1 days 22:16:57.894853</td>\n",
       "      <td>70.420586</td>\n",
       "      <td>11.685892</td>\n",
       "      <td>14.936114</td>\n",
       "      <td>2.974696</td>\n",
       "      <td>1.262807</td>\n",
       "    </tr>\n",
       "    <tr>\n",
       "      <th>std</th>\n",
       "      <td>6084.253352</td>\n",
       "      <td>0 days 21:05:25.488515</td>\n",
       "      <td>394.964544</td>\n",
       "      <td>5.935801</td>\n",
       "      <td>10.077216</td>\n",
       "      <td>1.973716</td>\n",
       "      <td>0.498840</td>\n",
       "    </tr>\n",
       "    <tr>\n",
       "      <th>min</th>\n",
       "      <td>0.000000</td>\n",
       "      <td>0 days 03:02:05</td>\n",
       "      <td>0.000000</td>\n",
       "      <td>0.000000</td>\n",
       "      <td>4.000000</td>\n",
       "      <td>0.000000</td>\n",
       "      <td>0.000000</td>\n",
       "    </tr>\n",
       "    <tr>\n",
       "      <th>25%</th>\n",
       "      <td>5.000000</td>\n",
       "      <td>1 days 07:37:58.750000</td>\n",
       "      <td>1.000000</td>\n",
       "      <td>7.000000</td>\n",
       "      <td>9.000000</td>\n",
       "      <td>1.791759</td>\n",
       "      <td>1.026672</td>\n",
       "    </tr>\n",
       "    <tr>\n",
       "      <th>50%</th>\n",
       "      <td>12.000000</td>\n",
       "      <td>2 days 01:54:15</td>\n",
       "      <td>4.000000</td>\n",
       "      <td>12.000000</td>\n",
       "      <td>11.000000</td>\n",
       "      <td>2.564949</td>\n",
       "      <td>1.271150</td>\n",
       "    </tr>\n",
       "    <tr>\n",
       "      <th>75%</th>\n",
       "      <td>39.000000</td>\n",
       "      <td>2 days 13:51:39</td>\n",
       "      <td>13.000000</td>\n",
       "      <td>16.000000</td>\n",
       "      <td>15.000000</td>\n",
       "      <td>3.688879</td>\n",
       "      <td>1.545194</td>\n",
       "    </tr>\n",
       "    <tr>\n",
       "      <th>max</th>\n",
       "      <td>93700.000000</td>\n",
       "      <td>3 days 12:32:14</td>\n",
       "      <td>7730.000000</td>\n",
       "      <td>23.000000</td>\n",
       "      <td>53.000000</td>\n",
       "      <td>11.447864</td>\n",
       "      <td>2.521549</td>\n",
       "    </tr>\n",
       "  </tbody>\n",
       "</table>\n",
       "</div>"
      ],
      "text/plain": [
       "            upvotes                post_age   comment_no  hour_posted  \\\n",
       "count   2254.000000                    2254  2254.000000  2254.000000   \n",
       "mean     887.414818  1 days 22:16:57.894853    70.420586    11.685892   \n",
       "std     6084.253352  0 days 21:05:25.488515   394.964544     5.935801   \n",
       "min        0.000000         0 days 03:02:05     0.000000     0.000000   \n",
       "25%        5.000000  1 days 07:37:58.750000     1.000000     7.000000   \n",
       "50%       12.000000         2 days 01:54:15     4.000000    12.000000   \n",
       "75%       39.000000         2 days 13:51:39    13.000000    16.000000   \n",
       "max    93700.000000         3 days 12:32:14  7730.000000    23.000000   \n",
       "\n",
       "       title_length  upvotes_logged   double_log  \n",
       "count   2254.000000     2254.000000  2254.000000  \n",
       "mean      14.936114        2.974696     1.262807  \n",
       "std       10.077216        1.973716     0.498840  \n",
       "min        4.000000        0.000000     0.000000  \n",
       "25%        9.000000        1.791759     1.026672  \n",
       "50%       11.000000        2.564949     1.271150  \n",
       "75%       15.000000        3.688879     1.545194  \n",
       "max       53.000000       11.447864     2.521549  "
      ]
     },
     "execution_count": 17,
     "metadata": {},
     "output_type": "execute_result"
    }
   ],
   "source": [
    "df.describe()"
   ]
  },
  {
   "cell_type": "markdown",
   "metadata": {},
   "source": [
    "The distributions of both the logged and double logged upvotes are much closer to normal distributions than the original variable's. Because taking the double log creates quite a disproportionate amount of 0s, it makes sense to use the logged upvotes as the target."
   ]
  },
  {
   "cell_type": "code",
   "execution_count": 18,
   "metadata": {},
   "outputs": [],
   "source": [
    "# Save data as a pickle file\n",
    "with open('pickle_files/dataframe.pkl', 'wb') as picklefile:\n",
    "    pickle.dump(df, picklefile)"
   ]
  },
  {
   "cell_type": "markdown",
   "metadata": {},
   "source": [
    "# 6. Create Dummy Variables \n",
    "\n",
    "Dummy variables created:\n",
    "* Linked Sites:\n",
    "    * The original source of the news article posted on Reddit\n",
    "    * This feature could impact upvotes as some sites may be more credible or favored on Reddit\n",
    "* Time of Day Posted:\n",
    "    * The hour of the day that the post was created (saved as numbers, where each number represents an hour in a 24 hour clock)\n",
    "    * While there's already a \"Time of Day Posted\" variable, treating it as a dummy variable rather than a continuous one could combat the value of the hour of the day being treated as numerical and averaging out.\n",
    "* Age of the Post:\n",
    "    * How long the post had been up before the data was scraped\n",
    "    * While posts that were too new were already removed, time is definitely a factor in the number of upvotes as the longer a post has been up, the more opportunity it has to receive upvotes"
   ]
  },
  {
   "cell_type": "markdown",
   "metadata": {},
   "source": [
    "### Dummy variables for each linked site"
   ]
  },
  {
   "cell_type": "code",
   "execution_count": 19,
   "metadata": {},
   "outputs": [],
   "source": [
    "sites_dummy = pd.get_dummies(df['site']) # Create a seperate dummy variable dataframe\n",
    "# Drop infrequently used sites to prevent overfitting\n",
    "sites_dummy.drop([col for col, val in sites_dummy.sum().iteritems() if val < 15], axis=1, inplace=True)"
   ]
  },
  {
   "cell_type": "code",
   "execution_count": 20,
   "metadata": {},
   "outputs": [
    {
     "data": {
      "image/png": "[encoded data removed]",
      "text/plain": [
       "<Figure size 432x288 with 1 Axes>"
      ]
     },
     "metadata": {},
     "output_type": "display_data"
    }
   ],
   "source": [
    "# Plot the distribution\n",
    "plt.hist(sites_dummy.sum(), color= '#FF5700')\n",
    "plt.title('Distribution of Linked Sites', fontsize = 20, weight = 'bold')\n",
    "plt.xlabel('Number of Likes', fontsize = 15)\n",
    "plt.ylabel('Number of Sites', fontsize = 15)\n",
    "sns.despine();"
   ]
  },
  {
   "cell_type": "code",
   "execution_count": 21,
   "metadata": {},
   "outputs": [
    {
     "data": {
      "text/plain": [
       "reuters.com            261\n",
       "theguardian.com        246\n",
       "bbc.com                130\n",
       "bbc.co.uk               62\n",
       "independent.co.uk       49\n",
       "aljazeera.com           46\n",
       "dw.com                  45\n",
       "edition.cnn.com         37\n",
       "cbc.ca                  34\n",
       "apnews.com              32\n",
       "nytimes.com             31\n",
       "cnbc.com                31\n",
       "washingtonpost.com      26\n",
       "timesofisrael.com       24\n",
       "news.sky.com            24\n",
       "abc.net.au              24\n",
       "bloomberg.com           23\n",
       "thedailybeast.com       23\n",
       "cnn.com                 21\n",
       "japantimes.co.jp        20\n",
       "channelnewsasia.com     19\n",
       "businessinsider.com     19\n",
       "abcnews.go.com          19\n",
       "scmp.com                17\n",
       "france24.com            16\n",
       "themoscowtimes.com      16\n",
       "en.crimerussia.com      15\n",
       "euractiv.com            15\n",
       "dailymail.co.uk         15\n",
       "dtype: int64"
      ]
     },
     "execution_count": 21,
     "metadata": {},
     "output_type": "execute_result"
    }
   ],
   "source": [
    "sites_dummy.sum().sort_values(ascending=False)"
   ]
  },
  {
   "cell_type": "markdown",
   "metadata": {},
   "source": [
    "The sites listed above are the most frequently linked. Reuters, The Guardian, and BBC are by far the most commonly linked sites."
   ]
  },
  {
   "cell_type": "markdown",
   "metadata": {},
   "source": [
    "### Time posted dummy variables"
   ]
  },
  {
   "cell_type": "code",
   "execution_count": 22,
   "metadata": {},
   "outputs": [],
   "source": [
    "hour_dummy = pd.get_dummies(df['hour_posted'])"
   ]
  },
  {
   "cell_type": "code",
   "execution_count": 23,
   "metadata": {},
   "outputs": [
    {
     "data": {
      "image/png": "[encoded data removed]",
      "text/plain": [
       "<Figure size 432x288 with 1 Axes>"
      ]
     },
     "metadata": {},
     "output_type": "display_data"
    }
   ],
   "source": [
    "# Plot the posts by time of day\n",
    "hour_dummy.sum().plot(color= '#FF5700')\n",
    "plt.title('Post Volume by Time of Day', fontsize = 15, weight = 'bold')\n",
    "plt.ylabel('Number of Posts', fontsize = 12)\n",
    "plt.xlabel('Time of Day by Hour (in UTC)', fontsize = 12)\n",
    "sns.despine();"
   ]
  },
  {
   "cell_type": "markdown",
   "metadata": {},
   "source": [
    "Most Reddit users seem to post at UTC 13:00, which could be first thing in the morning for a large portion of the users."
   ]
  },
  {
   "cell_type": "markdown",
   "metadata": {},
   "source": [
    "### Post age dummy variables"
   ]
  },
  {
   "cell_type": "code",
   "execution_count": 24,
   "metadata": {},
   "outputs": [],
   "source": [
    "# Make bins in increments of 5 hours with labels\n",
    "bins = []\n",
    "labels = []\n",
    "for item in range(0,90,5):\n",
    "    string = str(item) + 'hours'\n",
    "    bins.append(pd.Timedelta(string))\n",
    "    labels.append(item)\n",
    "    \n",
    "labels = labels[1:]"
   ]
  },
  {
   "cell_type": "code",
   "execution_count": 25,
   "metadata": {},
   "outputs": [],
   "source": [
    "# Categorize each post into a bin\n",
    "df['post_age_hours'] = pd.cut(df['post_age'], bins=bins, labels=labels)"
   ]
  },
  {
   "cell_type": "code",
   "execution_count": 26,
   "metadata": {},
   "outputs": [],
   "source": [
    "# Create the dummy variables\n",
    "age_dummy = pd.get_dummies(df['post_age_hours'])"
   ]
  },
  {
   "cell_type": "code",
   "execution_count": 27,
   "metadata": {},
   "outputs": [],
   "source": [
    "# Convert time to seconds\n",
    "def to_secs(item):\n",
    "    return item.total_seconds()\n",
    "\n",
    "df['post_age'] = df['post_age'].apply(to_secs)"
   ]
  },
  {
   "cell_type": "markdown",
   "metadata": {},
   "source": [
    "### Save dataframes as pickle files"
   ]
  },
  {
   "cell_type": "code",
   "execution_count": 28,
   "metadata": {},
   "outputs": [],
   "source": [
    "with open('pickle_files/sites_dummy.pkl', 'wb') as picklefile:\n",
    "    pickle.dump(sites_dummy, picklefile)\n",
    "    \n",
    "with open('pickle_files/hour_dummy.pkl', 'wb') as picklefile:\n",
    "    pickle.dump(hour_dummy, picklefile)\n",
    "    \n",
    "with open('pickle_files/age_dummy.pkl', 'wb') as picklefile:\n",
    "    pickle.dump(age_dummy, picklefile)"
   ]
  },
  {
   "cell_type": "markdown",
   "metadata": {},
   "source": [
    "# 7. Convert Text Data to Sparse Matrix Using Count Vectorizer\n",
    "\n",
    "We can transform all words used in this dataset into features to use in the regression. Using count vectorized features, the regression runs on the count of the words used for each post. This can show us which words have a strong effect on upvotes. Alternatively, we could use the TFIDF features (however, through cross validation, counts work better for this problem)."
   ]
  },
  {
   "cell_type": "code",
   "execution_count": 29,
   "metadata": {},
   "outputs": [],
   "source": [
    "# Convert titles to only letters (remove all other symbols)\n",
    "df['title'] = df['title'].str.replace('[^a-z, A-Z]', '')"
   ]
  },
  {
   "cell_type": "markdown",
   "metadata": {},
   "source": [
    "Initialize the count vectorizer with stop words set to English (this will remove all words that aren't English which might be typos or uncommon) and ngrams set to two (which will take two word combinations into account)"
   ]
  },
  {
   "cell_type": "code",
   "execution_count": 30,
   "metadata": {},
   "outputs": [],
   "source": [
    "count_vect = CountVectorizer(stop_words = 'english', ngram_range=(1, 2)) # Initialize the count vectorizer\n",
    "# Creates the sparse matrix containing words as columns and counts for each post in the rows\n",
    "counts = count_vect.fit_transform(df['title'])\n",
    "counts.shape"
   ]
  },
  {
   "cell_type": "code",
   "execution_count": 32,
   "metadata": {},
   "outputs": [],
   "source": [
    "# Create a dataframe with the counts\n",
    "count_words_df = pd.DataFrame(data=counts.toarray(),columns=count_vect.get_feature_names())"
   ]
  },
  {
   "cell_type": "code",
   "execution_count": 33,
   "metadata": {},
   "outputs": [
    {
     "data": {
      "text/plain": [
       "trump       70\n",
       "india       72\n",
       "said        77\n",
       "russia      79\n",
       "russian     86\n",
       "uk          96\n",
       "saudi      107\n",
       "new        128\n",
       "china      141\n",
       "says       176\n",
       "dtype: int64"
      ]
     },
     "execution_count": 33,
     "metadata": {},
     "output_type": "execute_result"
    }
   ],
   "source": [
    "# See most commonly used words\n",
    "common_words = count_words_df.sum().sort_values()\n",
    "common_words.tail(10)"
   ]
  },
  {
   "cell_type": "code",
   "execution_count": 34,
   "metadata": {},
   "outputs": [],
   "source": [
    "# Dataframe without seldom used words to avoid overfit\n",
    "word_series = common_words.loc[common_words >= 10] # Pandas series of all words used more than 10 times\n",
    "word_list = list(word_series.index.values) # List of those words\n",
    "select_count = count_words_df[word_list] # New dataframe referencing with columns as word_list words"
   ]
  },
  {
   "cell_type": "markdown",
   "metadata": {},
   "source": [
    "Now that we have the most commonly used words, we can engineer a new feature: the number of top words used divided by length of the post. This is effectively the ratio of common words used in each title. Regression on this feature would give an indication if using more commonly used words will result in more or less upvotes. (This feature is unusable if modeling on the reduced word dataframe, select_count)"
   ]
  },
  {
   "cell_type": "code",
   "execution_count": 35,
   "metadata": {},
   "outputs": [],
   "source": [
    "select_count['sum'] = select_count.sum(axis=1) # Creates a column that is a sum of all commonly used words\n",
    "count_whole_df = pd.concat([df.reset_index(drop=True), select_count.reset_index(drop=True)], axis= 1) # Combined df\n",
    "count_whole_df[\"average\"] = (count_whole_df[\"sum\"]/count_whole_df[\"title_length\"]) # Create the \"average\" variable\n",
    "count_avg = count_whole_df[\"average\"] # Isolate the variable"
   ]
  },
  {
   "cell_type": "code",
   "execution_count": 36,
   "metadata": {},
   "outputs": [],
   "source": [
    "# Save data as a pickle files\n",
    "with open('pickle_files/all_word_counts.pkl', 'wb') as picklefile:\n",
    "    pickle.dump(count_words_df, picklefile)\n",
    "    \n",
    "with open('pickle_files/select_word_counts.pkl', 'wb') as picklefile:\n",
    "    pickle.dump(select_count, picklefile)"
   ]
  },
  {
   "cell_type": "markdown",
   "metadata": {},
   "source": [
    "# 8. Regress"
   ]
  },
  {
   "cell_type": "code",
   "execution_count": 37,
   "metadata": {},
   "outputs": [],
   "source": [
    "# After cross validation, the following combination of features results in the best model\n",
    "regress = df[['upvotes_logged','title_length','post_age']]\n",
    "regress = pd.concat([regress.reset_index(drop=True), select_count.reset_index(drop=True)], axis= 1)"
   ]
  },
  {
   "cell_type": "code",
   "execution_count": 38,
   "metadata": {},
   "outputs": [],
   "source": [
    "# Initialize the Ridge linear regression model with a variety of alphas\n",
    "rcv = RidgeCV(alphas=(1,10,25,50,70,75,80,90,100), cv=5) "
   ]
  },
  {
   "cell_type": "code",
   "execution_count": 39,
   "metadata": {},
   "outputs": [],
   "source": [
    "X = regress.loc[:, regress.columns != 'upvotes_logged'] # Create target dataframe\n",
    "y = regress['upvotes_logged'] # Create feature dataframe\n",
    "X_train, X_test, y_train, y_test = train_test_split(X, y, test_size=0.2,random_state=42) # Split data into train and test\n",
    "fit = rcv.fit(X_train, y_train) # Fit the model on the data"
   ]
  },
  {
   "cell_type": "markdown",
   "metadata": {},
   "source": [
    "# 9. Test Model Performance"
   ]
  },
  {
   "cell_type": "code",
   "execution_count": 40,
   "metadata": {},
   "outputs": [
    {
     "name": "stdout",
     "output_type": "stream",
     "text": [
      "alpha: 80\n",
      "Training R-Squared: 0.13856220288101273\n",
      "Test R-Squared: 0.1213499723599446\n"
     ]
    }
   ],
   "source": [
    "print('alpha:', rcv.alpha_) \n",
    "print('Training R-Squared:', rcv.score(X_train, y_train))\n",
    "print('Test R-Squared:',rcv.score(X_test, y_test))"
   ]
  },
  {
   "cell_type": "markdown",
   "metadata": {},
   "source": [
    "While the R-Squared is relatively low, it's still much higher than 0, and so the feature coefficients can be meaningfully interpreted."
   ]
  },
  {
   "cell_type": "code",
   "execution_count": 41,
   "metadata": {},
   "outputs": [
    {
     "data": {
      "image/png": "[encoded data removed]",
      "text/plain": [
       "<Figure size 432x288 with 1 Axes>"
      ]
     },
     "metadata": {},
     "output_type": "display_data"
    }
   ],
   "source": [
    "# Plot the predicted test scores against the true scores\n",
    "pred = rcv.predict(X_test)\n",
    "sns.regplot(pred,y_test, color = '#FF5700')\n",
    "plt.title('Predicted Test Scores VS True Scores', fontsize = 15, weight = 'bold')\n",
    "plt.ylabel('Predicted Scores', fontsize = 12)\n",
    "plt.xlabel('True Scores', fontsize = 12)\n",
    "sns.despine(); "
   ]
  },
  {
   "cell_type": "markdown",
   "metadata": {},
   "source": [
    "If the model worked perfectly, this would be a straight line. However, the upward trend in this plot indicates that the model isn't broken."
   ]
  },
  {
   "cell_type": "code",
   "execution_count": 42,
   "metadata": {},
   "outputs": [
    {
     "data": {
      "image/png": "[encoded data removed]",
      "text/plain": [
       "<Figure size 432x288 with 1 Axes>"
      ]
     },
     "metadata": {},
     "output_type": "display_data"
    }
   ],
   "source": [
    "# Plot the residuals\n",
    "sns.regplot(pred,y_test-pred, color = '#FF5700')\n",
    "plt.title('Residuals', fontsize = 15, weight = 'bold')\n",
    "plt.ylabel('Predicted Scores', fontsize = 12)\n",
    "plt.xlabel('Residual', fontsize = 12)\n",
    "sns.despine();"
   ]
  },
  {
   "cell_type": "markdown",
   "metadata": {},
   "source": [
    "# 10. Final Analysis"
   ]
  },
  {
   "cell_type": "code",
   "execution_count": 43,
   "metadata": {},
   "outputs": [
    {
     "data": {
      "text/plain": [
       "[('missing', -0.23565982598871094),\n",
       " ('military', -0.22226126342546676),\n",
       " ('khashoggi', -0.2142663523400846),\n",
       " ('jamal', -0.21115560226158098),\n",
       " ('visit', -0.20933937396905763),\n",
       " ('trade deal', -0.18843357341602487),\n",
       " ('iran', -0.18605576182338354),\n",
       " ('government', -0.18363788060194025),\n",
       " ('north', -0.17420257332837383),\n",
       " ('saudi', -0.17301305361055633),\n",
       " ('health', -0.16534662295049107),\n",
       " ('prison', -0.1624382408427186),\n",
       " ('officers', -0.16152026668420014),\n",
       " ('australian', -0.16149556038001137),\n",
       " ('dies', -0.15506244592973847),\n",
       " ('climate change', -0.15080628643413038),\n",
       " ('india', -0.14176418657475529),\n",
       " ('change', -0.13821896472416437),\n",
       " ('prime minister', -0.1374302729869395),\n",
       " ('sydney opera', -0.13622831753196424),\n",
       " ('public', -0.1346296525376027),\n",
       " ('ambassador', -0.1279499758747832),\n",
       " ('british', -0.12715319863508248),\n",
       " ('prize', -0.12651118905184552),\n",
       " ('years', -0.12401447090042236),\n",
       " ('west', -0.12388477232419803),\n",
       " ('worlds', -0.12201008557197618),\n",
       " ('reportedly', -0.12165965572339153),\n",
       " ('human', -0.12165243329480704),\n",
       " ('shows', -0.1208037573970846),\n",
       " ('kong', -0.12080375739708456),\n",
       " ('concerns', -0.11903642171753574),\n",
       " ('doctor', -0.11865347832328156),\n",
       " ('farright', -0.11761067192979882),\n",
       " ('trump', -0.11688294385708228),\n",
       " ('financial', -0.11538806920037156),\n",
       " ('bomb', -0.11403019415264967),\n",
       " ('brazil', -0.11402277822178987),\n",
       " ('israeli', -0.11122278472490432),\n",
       " ('rights', -0.11108494160354507),\n",
       " ('war', -0.11087329433337915),\n",
       " ('attacks', -0.11083208539444388),\n",
       " ('win', -0.1105898087476693),\n",
       " ('trade', -0.1099912603870586),\n",
       " ('suspect', -0.10807476861940696),\n",
       " ('times', -0.10799697588835575),\n",
       " ('general', -0.1077466448482911),\n",
       " ('physics', -0.10735583402901064),\n",
       " ('sign', -0.10587602265608917),\n",
       " ('intelligence', -0.10568881123531232),\n",
       " ('trade war', -0.10522951405984286),\n",
       " ('home', -0.10519078591749587),\n",
       " ('murder', -0.10128103061713252),\n",
       " ('billion', -0.10076260701466018),\n",
       " ('report', -0.09968509560810472),\n",
       " ('referendum', -0.09859063463931662),\n",
       " ('interpol chief', -0.09782587926602883),\n",
       " ('venezuela', -0.09714803010931508),\n",
       " ('russian', -0.09638232598782946),\n",
       " ('year', -0.09628253530661546),\n",
       " ('leaders', -0.09579325649567044),\n",
       " ('dutch', -0.09392035796113316),\n",
       " ('hold', -0.09377594095487876),\n",
       " ('online', -0.09353281725404754),\n",
       " ('demand', -0.09170633120504608),\n",
       " ('force', -0.09134286362101159),\n",
       " ('banks', -0.09129219085196309),\n",
       " ('gaza', -0.09018190316301265),\n",
       " ('fine', -0.08933704578639856),\n",
       " ('tsunami', -0.08907894968177454),\n",
       " ('agency', -0.0890789496817745),\n",
       " ('set', -0.08667227907036494),\n",
       " ('australia', -0.08640340759177785),\n",
       " ('like', -0.08598478152189326),\n",
       " ('missing journalist', -0.08476671672544514),\n",
       " ('right', -0.08424487806462277),\n",
       " ('key', -0.0838313599269889),\n",
       " ('mexico', -0.08359954003436465),\n",
       " ('city', -0.08344625652548358),\n",
       " ('alleged', -0.08000010199153136),\n",
       " ('jailed', -0.07536524891115999),\n",
       " ('calls', -0.07456161088474526),\n",
       " ('man', -0.07425574548496577),\n",
       " ('south korea', -0.07410747525365982),\n",
       " ('shot', -0.0739957876875911),\n",
       " ('chinas', -0.07394571610312217),\n",
       " ('site', -0.07056522081538436),\n",
       " ('friday', -0.07000369317186925),\n",
       " ('turkish', -0.06956642533247862),\n",
       " ('quake', -0.06747544086514724),\n",
       " ('plot', -0.06676575873257722),\n",
       " ('seeks', -0.06463531936847254),\n",
       " ('held', -0.06419079304202727),\n",
       " ('jamal khashoggi', -0.06327308555442737),\n",
       " ('migrants', -0.0628099127279358),\n",
       " ('afghan', -0.06276329615353524),\n",
       " ('arabia', -0.06263174738499867),\n",
       " ('journalists', -0.06255560370766021),\n",
       " ('church', -0.06232324536901254),\n",
       " ('camps', -0.060207973126760975),\n",
       " ('possible', -0.06020438227398949),\n",
       " ('use', -0.059764802940437664),\n",
       " ('security', -0.05956730915419476),\n",
       " ('nuclear', -0.05947964849456296),\n",
       " ('brazils', -0.05940024158820203),\n",
       " ('saudi journalist', -0.0572132782648413),\n",
       " ('women', -0.05677861559546439),\n",
       " ('iraq', -0.05677567792526533),\n",
       " ('woman', -0.055569075308053065),\n",
       " ('detained', -0.05538101041835756),\n",
       " ('aid', -0.055190740427838),\n",
       " ('climate', -0.05497492516511863),\n",
       " ('candidate', -0.05360276217478021),\n",
       " ('zone', -0.05352167720700126),\n",
       " ('poisoning', -0.05346381453958352),\n",
       " ('stop', -0.052611083985102176),\n",
       " ('apple', -0.05236452963810033),\n",
       " ('bulgarian', -0.05155054939853378),\n",
       " ('arrest', -0.051430475784957436),\n",
       " ('jair', -0.05096860111102285),\n",
       " ('suspected', -0.05050580935221477),\n",
       " ('pope francis', -0.05029883860993257),\n",
       " ('hongwei', -0.04961016101525192),\n",
       " ('legal', -0.048298461871898304),\n",
       " ('fears', -0.047405127470417995),\n",
       " ('probe', -0.0471532558012669),\n",
       " ('putin', -0.04714954350960496),\n",
       " ('nobel peace', -0.04665552800417243),\n",
       " ('chemical weapons', -0.046153427797260387),\n",
       " ('used', -0.04581356199428386),\n",
       " ('warming', -0.04520878290863796),\n",
       " ('union', -0.045206217774696765),\n",
       " ('disaster', -0.04475582035667268),\n",
       " ('imf', -0.04468052675634415),\n",
       " ('freedom', -0.04458960471327847),\n",
       " ('eu', -0.04440559372804647),\n",
       " ('order', -0.044106880192385595),\n",
       " ('countrys', -0.04407696534611882),\n",
       " ('support', -0.04374021220095349),\n",
       " ('money', -0.04292024468530493),\n",
       " ('reported', -0.0428336656510761),\n",
       " ('goes', -0.04245128008430647),\n",
       " ('months', -0.04245128008430646),\n",
       " ('tech', -0.04216658036141107),\n",
       " ('attack', -0.042148588849539856),\n",
       " ('trying', -0.042022048098695065),\n",
       " ('rejects', -0.041636431929986124),\n",
       " ('saudis', -0.04120356100678092),\n",
       " ('awarded', -0.04046156912704291),\n",
       " ('told', -0.037836081365611264),\n",
       " ('london', -0.037552888718221045),\n",
       " ('weeks', -0.03680220492608765),\n",
       " ('forest', -0.03660078024577154),\n",
       " ('ukraine', -0.0364164089649666),\n",
       " ('thousands', -0.0363095510549107),\n",
       " ('violence', -0.0362624738218489),\n",
       " ('dissident', -0.03565108054698971),\n",
       " ('coal', -0.03523377162148346),\n",
       " ('sydney', -0.03513411607029393),\n",
       " ('national', -0.03491512564537006),\n",
       " ('latest', -0.03460614312954518),\n",
       " ('babies', -0.034378993027273666),\n",
       " ('airport', -0.033977785921805385),\n",
       " ('medical', -0.03373811153268265),\n",
       " ('protests', -0.03354227020262919),\n",
       " ('target', -0.03310877253666622),\n",
       " ('reports', -0.032718072385071656),\n",
       " ('meng hongwei', -0.0315308034781173),\n",
       " ('car', -0.03151580158430069),\n",
       " ('protest', -0.03150678726977166),\n",
       " ('poll', -0.031341944117142834),\n",
       " ('corruption', -0.030946269246303667),\n",
       " ('saudi arabia', -0.03026399007048288),\n",
       " ('data', -0.030263990070482874),\n",
       " ('cut', -0.02973487160610077),\n",
       " ('horse', -0.02968167841014519),\n",
       " ('new zealand', -0.029143616419435702),\n",
       " ('spy', -0.02887480946754887),\n",
       " ('german', -0.027969752029023697),\n",
       " ('dozens', -0.027107667782545954),\n",
       " ('criminal', -0.026936073030846854),\n",
       " ('plastic', -0.026380497563130035),\n",
       " ('major', -0.025665012983426085),\n",
       " ('case', -0.025562341952738217),\n",
       " ('germany', -0.025415124778210035),\n",
       " ('sex', -0.02513529726951631),\n",
       " ('close', -0.024349047567221248),\n",
       " ('leader', -0.023997766968527196),\n",
       " ('south china', -0.023517208337857348),\n",
       " ('crash', -0.023517208337857323),\n",
       " ('help', -0.023358088709164677),\n",
       " ('month', -0.023299595303135957),\n",
       " ('law', -0.02328626069925245),\n",
       " ('administration', -0.02276966857199019),\n",
       " ('meng', -0.022537044023075867),\n",
       " ('say', -0.022250543504494517),\n",
       " ('japans', -0.02220226124028413),\n",
       " ('turkey', -0.018853199712857215),\n",
       " ('spies', -0.018782608172400978),\n",
       " ('house', -0.01849904157377842),\n",
       " ('deal', -0.017599815350217863),\n",
       " ('pm', -0.017562705258694734),\n",
       " ('nato', -0.01694658549494127),\n",
       " ('ban', -0.015927470522886518),\n",
       " ('finds', -0.015723561987070454),\n",
       " ('cannabis', -0.015072212111310329),\n",
       " ('kills', -0.014993725279120983),\n",
       " ('kill', -0.014340029146498621),\n",
       " ('trumps', -0.01434002914649861),\n",
       " ('drug', -0.013734055251059103),\n",
       " ('syria', -0.012789479698415436),\n",
       " ('country', -0.012019098729104),\n",
       " ('iranian', -0.010940429715134002),\n",
       " ('malaysia', -0.010874242207708952),\n",
       " ('brexit', -0.010506055619502087),\n",
       " ('says', -0.01021811848451896),\n",
       " ('time', -0.009179288171100988),\n",
       " ('future', -0.00853031107038551),\n",
       " ('university', -0.00850829922164143),\n",
       " ('students', -0.008239517342142596),\n",
       " ('new', -0.007931039398331266),\n",
       " ('fight', -0.007506648823563267),\n",
       " ('death', -0.007274631427920157),\n",
       " ('countries', -0.006423384323439718),\n",
       " ('beijing', -0.005680414138023211),\n",
       " ('following', -0.005230222257138137),\n",
       " ('head', -0.005136882674860501),\n",
       " ('authorities', -0.0051176376957759295),\n",
       " ('chinese', -0.005093685984460083),\n",
       " ('prince', -0.004278784981320172),\n",
       " ('consulate', -0.004177622793233228),\n",
       " ('saudi consulate', -0.004098742821455342),\n",
       " ('cancer', -0.0037757370050044677),\n",
       " ('called', -0.0033928901729773893),\n",
       " ('opera house', -0.003370453233141054),\n",
       " ('central', -0.0027360350950307016),\n",
       " ('likely', -0.0024035930480921963),\n",
       " ('space', -0.0019348178060654877),\n",
       " ('pope', -0.001354966720361369),\n",
       " ('title_length', 8.437018542928987e-07),\n",
       " ('abuse', 0.0002677199581579346),\n",
       " ('schools', 0.0007920740195553557),\n",
       " ('day', 0.0007920740195553651),\n",
       " ('chemical', 0.0008293989852882375),\n",
       " ('japanese', 0.0017870964827568225),\n",
       " ('consulate istanbul', 0.0023837949518670755),\n",
       " ('sales', 0.0023912553425176194),\n",
       " ('largest', 0.0024428769098515817),\n",
       " ('japan', 0.002591630544678526),\n",
       " ('sea', 0.0034013455650058356),\n",
       " ('warning', 0.0040806467197697675),\n",
       " ('student', 0.004130146395500798),\n",
       " ('russias', 0.004600958784806147),\n",
       " ('journalist', 0.005786099716272368),\n",
       " ('macron', 0.00728653738593716),\n",
       " ('huge', 0.007286537385937174),\n",
       " ('days', 0.00814244816944175),\n",
       " ('growth', 0.00815768977620637),\n",
       " ('near', 0.008249047403069892),\n",
       " ('using', 0.00830958715716864),\n",
       " ('sexual', 0.008640340256278849),\n",
       " ('boycott', 0.008680826321922387),\n",
       " ('killed', 0.010373504875714137),\n",
       " ('elections', 0.011247480281976219),\n",
       " ('pakistan', 0.011277619671144313),\n",
       " ('nobel', 0.012101235610061014),\n",
       " ('britain', 0.012727709309732979),\n",
       " ('toll', 0.013067358034746306),\n",
       " ('post_age', 0.01420325115225121),\n",
       " ('work', 0.014743897425955488),\n",
       " ('paris', 0.015165917274248125),\n",
       " ('north korea', 0.015357469553037205),\n",
       " ('missile', 0.01559734035085722),\n",
       " ('team', 0.017005945095168642),\n",
       " ('seven', 0.017432235013582223),\n",
       " ('make', 0.017775639036932692),\n",
       " ('ordered', 0.017876852057533355),\n",
       " ('world', 0.018885192324967593),\n",
       " ('states', 0.019166774581059493),\n",
       " ('hit', 0.01918065193504445),\n",
       " ('week', 0.019384129438453027),\n",
       " ('sunday', 0.01945781364916582),\n",
       " ('world news', 0.019644567225105658),\n",
       " ('moscow', 0.019735895609294302),\n",
       " ('uk', 0.020597971107039873),\n",
       " ('second', 0.020844965047056647),\n",
       " ('cuts', 0.02155523835994979),\n",
       " ('peace', 0.0223638210525274),\n",
       " ('interpol', 0.02273071176347036),\n",
       " ('arrested', 0.023762707626457765),\n",
       " ('china sea', 0.023926437839977933),\n",
       " ('search', 0.023978635471919207),\n",
       " ('scientists', 0.024794410701470967),\n",
       " ('jail', 0.0249960635907075),\n",
       " ('media', 0.0255348910014803),\n",
       " ('kim', 0.02570442078469665),\n",
       " ('leaves', 0.02577812750372302),\n",
       " ('thursday', 0.0272235548389099),\n",
       " ('gas', 0.027598710941945534),\n",
       " ('threatened', 0.02857832078191057),\n",
       " ('guilty', 0.02858322404735091),\n",
       " ('visa', 0.028647214172962395),\n",
       " ('european', 0.028904307996688448),\n",
       " ('face', 0.02895301129769042),\n",
       " ('industry', 0.029079661521605175),\n",
       " ('hacking', 0.029641468060815575),\n",
       " ('just', 0.029937491641769492),\n",
       " ('threatens', 0.031614374546972794),\n",
       " ('said', 0.03193740405184597),\n",
       " ('state', 0.032941637895113465),\n",
       " ('accuses', 0.03304424812244835),\n",
       " ('planet', 0.03368355760023315),\n",
       " ('nobel prize', 0.034110080974718376),\n",
       " ('workers', 0.03427502527935607),\n",
       " ('news', 0.03508424381158423),\n",
       " ('hong', 0.03604261547278822),\n",
       " ('leave', 0.03614043143155868),\n",
       " ('wont', 0.036640299129618685),\n",
       " ('theresa', 0.036655180348476354),\n",
       " ('backs', 0.03706537047290277),\n",
       " ('high', 0.037639289816580726),\n",
       " ('accused', 0.03800672175631481),\n",
       " ('campaign', 0.03856781264477581),\n",
       " ('areas', 0.038731673961984396),\n",
       " ('wife', 0.038855992582489826),\n",
       " ('sanctions', 0.03900161993498457),\n",
       " ('haiti', 0.03951481575000583),\n",
       " ('indonesian', 0.03988411225070609),\n",
       " ('french', 0.03990300212894759),\n",
       " ('opera', 0.04208733398850582),\n",
       " ('officials', 0.04213040957550814),\n",
       " ('tells', 0.04273457798210887),\n",
       " ('economy', 0.04285700974820892),\n",
       " ('carbon', 0.044611843977892904),\n",
       " ('lead', 0.04462108927838525),\n",
       " ('wants', 0.04499840003327655),\n",
       " ('palestinian', 0.04502197754996166),\n",
       " ('erdogan', 0.045168744086589815),\n",
       " ('upvotes_logged', 0.04587136996972789),\n",
       " ('forces', 0.04753500849312133),\n",
       " ('energy', 0.047590850378340065),\n",
       " ('indonesia', 0.048060868310590615),\n",
       " ('stolen', 0.04841840834430368),\n",
       " ('taking', 0.05017694638151474),\n",
       " ('parliament', 0.05142304969879665),\n",
       " ('racing', 0.05160035721872943),\n",
       " ('cyber', 0.05246531626943016),\n",
       " ('israel', 0.05261358402554638),\n",
       " ('policy', 0.05296901890741851),\n",
       " ('way', 0.05439952202057113),\n",
       " ('presidential', 0.055713347693418264),\n",
       " ('northern', 0.05608610360649583),\n",
       " ('marriage', 0.05634859013492885),\n",
       " ('warns', 0.056365048200845785),\n",
       " ('peace prize', 0.056619714339608995),\n",
       " ('religious', 0.05731363762903494),\n",
       " ('biggest', 0.058058856695976296),\n",
       " ('deals', 0.05922025913760385),\n",
       " ('chief', 0.05966651413327785),\n",
       " ('study', 0.05993646018754927),\n",
       " ('died', 0.05997875365400053),\n",
       " ('korea', 0.060721753524848626),\n",
       " ('island', 0.06095834296829706),\n",
       " ('free', 0.06173815432501822),\n",
       " ('rules', 0.06293871941353046),\n",
       " ('canadian', 0.06329730567750416),\n",
       " ('open', 0.06331222639647002),\n",
       " ('charged', 0.06335523446574734),\n",
       " ('products', 0.06439110245438122),\n",
       " ('killing', 0.06500453195337608),\n",
       " ('mexican', 0.06600234092924431),\n",
       " ('ruling', 0.0685317924400006),\n",
       " ('disappearance', 0.06862954934963045),\n",
       " ('president', 0.06893982147387792),\n",
       " ('oil', 0.06924482524587142),\n",
       " ('research', 0.06930695613390608),\n",
       " ('prime', 0.07051352728187374),\n",
       " ('trial', 0.07102972185926439),\n",
       " ('plan', 0.07154798488916503),\n",
       " ('including', 0.07394896203052963),\n",
       " ('italian', 0.07452776178305832),\n",
       " ('trip', 0.07481683222099539),\n",
       " ('bolsonaro', 0.07512943249414582),\n",
       " ('google', 0.0761098007102773),\n",
       " ('victims', 0.0767699638121394),\n",
       " ('earthquake', 0.07761644290680399),\n",
       " ('pompeo', 0.07919382976719322),\n",
       " ('away', 0.07957184161311982),\n",
       " ('official', 0.07997657497906756),\n",
       " ('hong kong', 0.0801068499198979),\n",
       " ('syrian', 0.08030977494678447),\n",
       " ('ireland', 0.08092245967892348),\n",
       " ('threat', 0.08115124750888901),\n",
       " ('global warming', 0.08192161519231463),\n",
       " ('group', 0.08202251632207336),\n",
       " ('canada', 0.08213748134822993),\n",
       " ('terror', 0.08261007405478644),\n",
       " ('power', 0.08427849493894773),\n",
       " ('party', 0.085604671518135),\n",
       " ('gay', 0.08571337985886479),\n",
       " ('pay', 0.0884141908250617),\n",
       " ('gru', 0.08897961215835468),\n",
       " ('rohingya', 0.08996625288895534),\n",
       " ('allow', 0.09027793784373538),\n",
       " ('people', 0.09067787051032182),\n",
       " ('border', 0.09078549655675487),\n",
       " ('despite', 0.09320709940399924),\n",
       " ('forced', 0.09332637176078742),\n",
       " ('foreign', 0.09346191384016643),\n",
       " ('weapons', 0.09538123454226823),\n",
       " ('vote', 0.0959094950420214),\n",
       " ('skripal', 0.09667457122278164),\n",
       " ('missiles', 0.0976573147429437),\n",
       " ('percent', 0.09828190326628114),\n",
       " ('groups', 0.10012272239825686),\n",
       " ('indian', 0.10022526982835113),\n",
       " ('parts', 0.10216445211014681),\n",
       " ('investigation', 0.10252994480289093),\n",
       " ('south', 0.10440915503739759),\n",
       " ('school', 0.10532502116494562),\n",
       " ('waste', 0.1066779322483931),\n",
       " ('meeting', 0.10768086556836474),\n",
       " ('korean', 0.10881867264516457),\n",
       " ('francis', 0.11027063259443103),\n",
       " ('international', 0.11207700641285943),\n",
       " ('charges', 0.11440796062586599),\n",
       " ('air', 0.114548050216277),\n",
       " ('opposition', 0.11501362034515313),\n",
       " ('plans', 0.11546268788374774),\n",
       " ('tax', 0.11930541573521242),\n",
       " ('rise', 0.1196311831332747),\n",
       " ('police', 0.12049043809992208),\n",
       " ('faces', 0.12142127547161938),\n",
       " ('istanbul', 0.12326904004043364),\n",
       " ('body', 0.12367398289992172),\n",
       " ('million', 0.1240615640912755),\n",
       " ('children', 0.12626415325675577),\n",
       " ('france', 0.126351707866796),\n",
       " ('orders', 0.12779894642648493),\n",
       " ('amazon', 0.1357613422194977),\n",
       " ('zealand', 0.13813149388550697),\n",
       " ('massive', 0.13910731150668995),\n",
       " ('risk', 0.1398630703891211),\n",
       " ('election', 0.1426445434196418),\n",
       " ('bank', 0.14354485114771076),\n",
       " ('ties', 0.14414435433061804),\n",
       " ('according', 0.15063372603694258),\n",
       " ('amid', 0.15094727639340788),\n",
       " ('signs', 0.1546501657731191),\n",
       " ('global', 0.15647585466154648),\n",
       " ('tuesday', 0.1566913365224535),\n",
       " ('ministry', 0.16750084107846097),\n",
       " ('claims', 0.16986015879929817),\n",
       " ('crisis', 0.17429819972258948),\n",
       " ('left', 0.1747678725489548),\n",
       " ('linked', 0.17588892407631884),\n",
       " ('china', 0.17590385149681717),\n",
       " ('talks', 0.18782907795478201),\n",
       " ('end', 0.2033772255638051),\n",
       " ('press', 0.21088518600023348),\n",
       " ('court', 0.21202095883408767),\n",
       " ('race', 0.21395861840076394),\n",
       " ('dead', 0.25036732948626533),\n",
       " ('minister', 0.2728862129980667),\n",
       " ('russia', 0.2739783111067373),\n",
       " ('american', 0.2828548393757652)]"
      ]
     },
     "execution_count": 43,
     "metadata": {},
     "output_type": "execute_result"
    }
   ],
   "source": [
    "# View the feature coefficients in ascending order\n",
    "coefs = []\n",
    "for item1, item2 in zip(regress.columns.values,rcv.coef_):\n",
    "    tup = (item1, item2)\n",
    "    coefs.append(tup)\n",
    "\n",
    "sorted(coefs, key=lambda x: x[1])"
   ]
  },
  {
   "cell_type": "markdown",
   "metadata": {},
   "source": [
    "We can see that certain words like \"american\" or \"russia\" contribute the most positively to upvotes, while \"missing\" and \"military\" contribute negatively. This means that, if you post on the world news subreddit about America or Russia, it's more likely to be seen than other topics. This confirms the existence of bias on Reddit."
   ]
  },
  {
   "cell_type": "code",
   "execution_count": 44,
   "metadata": {},
   "outputs": [
    {
     "data": {
      "image/png": "[encoded data removed]",
      "text/plain": [
       "<Figure size 432x288 with 1 Axes>"
      ]
     },
     "metadata": {},
     "output_type": "display_data"
    },
    {
     "data": {
      "image/png": "[encoded data removed]",
      "text/plain": [
       "<Figure size 1080x432 with 5 Axes>"
      ]
     },
     "metadata": {},
     "output_type": "display_data"
    }
   ],
   "source": [
    "# Overlayed plots for direct, to scale, comparison\n",
    "palette = sns.color_palette()\n",
    "\n",
    "sns.distplot(regress[regress.trump > 0]['upvotes_logged'], label = 'Trump')\n",
    "sns.distplot(regress[regress.china > 0]['upvotes_logged'], label = 'China')\n",
    "sns.distplot(regress[regress.american > 0]['upvotes_logged'], label = 'American')\n",
    "sns.distplot(regress[regress.uk > 0]['upvotes_logged'], label = 'UK')\n",
    "sns.distplot(regress[regress.russia > 0]['upvotes_logged'], label = 'Russia')\n",
    "plt.title('Top Word Distributions', fontsize = 20, weight = 'bold')\n",
    "plt.xlabel('Logged Upvotes', fontsize = 12)\n",
    "plt.legend()\n",
    "sns.despine()\n",
    "plt.show();\n",
    "\n",
    "# Individual plots for clarity\n",
    "plt.figure(figsize=[15,6])\n",
    "plt.subplots_adjust(wspace=0.15, hspace=0.55) # Adjust size\n",
    "\n",
    "plt.subplot(2,3,1)\n",
    "sns.distplot(regress[regress.china > 0]['upvotes_logged'], label = 'China', color = palette[1])\n",
    "plt.title('\"China\" Distribution', fontsize = 15, weight = 'bold')\n",
    "plt.xlabel('Logged Upvotes', fontsize = 10)\n",
    "sns.despine();\n",
    "\n",
    "plt.subplot(2,3,2)\n",
    "sns.distplot(regress[regress.uk > 0]['upvotes_logged'], label = 'UK', color = palette[3])\n",
    "plt.title('\"UK\" Distribution', fontsize = 15, weight = 'bold')\n",
    "plt.xlabel('Logged Upvotes', fontsize = 10)\n",
    "sns.despine();\n",
    "\n",
    "plt.subplot(2,3,3)\n",
    "sns.distplot(regress[regress.russia > 0]['upvotes_logged'], label = 'Russia', color = palette[4])\n",
    "plt.title('\"Russia\" Distribution', fontsize = 15, weight = 'bold')\n",
    "plt.xlabel('Logged Upvotes', fontsize = 10)\n",
    "sns.despine();\n",
    "\n",
    "plt.subplot(2,3,4)\n",
    "sns.distplot(regress[regress.trump > 0]['upvotes_logged'], label = 'Trump', color = palette[0])\n",
    "plt.title('\"Trump\" Distribution', fontsize = 15, weight = 'bold')\n",
    "plt.xlabel('Logged Upvotes', fontsize = 10)\n",
    "sns.despine();\n",
    "\n",
    "plt.subplot(2,3,5)\n",
    "sns.distplot(regress[regress.american > 0]['upvotes_logged'], label = 'American', color = palette[2])\n",
    "plt.title('\"American\" Distribution', fontsize = 15, weight = 'bold')\n",
    "plt.xlabel('Logged Upvotes', fontsize = 10)\n",
    "sns.despine();"
   ]
  },
  {
   "cell_type": "markdown",
   "metadata": {},
   "source": [
    "From the distributions of upvotes for posts about common topics in the world news subreddit, it's clear that Reddit users react differently to topics about America than topics about other countries that are frequently in the news. The distribution for Trump appears to be bimodal, where there is another peak around 8 logged upvotes, showing that a disproportionate number of posts about Trump in particular seem to spark interest."
   ]
  },
  {
   "cell_type": "code",
   "execution_count": null,
   "metadata": {},
   "outputs": [],
   "source": []
  }
 ],
 "metadata": {
  "kernelspec": {
   "display_name": "Python 3",
   "language": "python",
   "name": "python3"
  },
  "language_info": {
   "codemirror_mode": {
    "name": "ipython",
    "version": 3
   },
   "file_extension": ".py",
   "mimetype": "text/x-python",
   "name": "python",
   "nbconvert_exporter": "python",
   "pygments_lexer": "ipython3",
   "version": "3.6.5"
  }
 },
 "nbformat": 4,
 "nbformat_minor": 2
}
